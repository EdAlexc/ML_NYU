{
 "cells": [
  {
   "cell_type": "markdown",
   "metadata": {},
   "source": [
    "# ML Assignment 3 - Eduardo Calzadilla\n",
    "\n",
    "### Logistic Regression"
   ]
  },
  {
   "cell_type": "markdown",
   "metadata": {},
   "source": [
    "The Iris data set file was imported as specified in the Python Machine Learning* text. Similar to the Assignment 2 - we conduct a bit of data exploration, just to refresh the attributes in the data set. "
   ]
  },
  {
   "cell_type": "code",
   "execution_count": 1,
   "metadata": {},
   "outputs": [
    {
     "data": {
      "text/html": [
       "<div>\n",
       "<style scoped>\n",
       "    .dataframe tbody tr th:only-of-type {\n",
       "        vertical-align: middle;\n",
       "    }\n",
       "\n",
       "    .dataframe tbody tr th {\n",
       "        vertical-align: top;\n",
       "    }\n",
       "\n",
       "    .dataframe thead th {\n",
       "        text-align: right;\n",
       "    }\n",
       "</style>\n",
       "<table border=\"1\" class=\"dataframe\">\n",
       "  <thead>\n",
       "    <tr style=\"text-align: right;\">\n",
       "      <th></th>\n",
       "      <th>0</th>\n",
       "      <th>1</th>\n",
       "      <th>2</th>\n",
       "      <th>3</th>\n",
       "      <th>4</th>\n",
       "    </tr>\n",
       "  </thead>\n",
       "  <tbody>\n",
       "    <tr>\n",
       "      <th>145</th>\n",
       "      <td>6.7</td>\n",
       "      <td>3.0</td>\n",
       "      <td>5.2</td>\n",
       "      <td>2.3</td>\n",
       "      <td>Iris-virginica</td>\n",
       "    </tr>\n",
       "    <tr>\n",
       "      <th>146</th>\n",
       "      <td>6.3</td>\n",
       "      <td>2.5</td>\n",
       "      <td>5.0</td>\n",
       "      <td>1.9</td>\n",
       "      <td>Iris-virginica</td>\n",
       "    </tr>\n",
       "    <tr>\n",
       "      <th>147</th>\n",
       "      <td>6.5</td>\n",
       "      <td>3.0</td>\n",
       "      <td>5.2</td>\n",
       "      <td>2.0</td>\n",
       "      <td>Iris-virginica</td>\n",
       "    </tr>\n",
       "    <tr>\n",
       "      <th>148</th>\n",
       "      <td>6.2</td>\n",
       "      <td>3.4</td>\n",
       "      <td>5.4</td>\n",
       "      <td>2.3</td>\n",
       "      <td>Iris-virginica</td>\n",
       "    </tr>\n",
       "    <tr>\n",
       "      <th>149</th>\n",
       "      <td>5.9</td>\n",
       "      <td>3.0</td>\n",
       "      <td>5.1</td>\n",
       "      <td>1.8</td>\n",
       "      <td>Iris-virginica</td>\n",
       "    </tr>\n",
       "  </tbody>\n",
       "</table>\n",
       "</div>"
      ],
      "text/plain": [
       "       0    1    2    3               4\n",
       "145  6.7  3.0  5.2  2.3  Iris-virginica\n",
       "146  6.3  2.5  5.0  1.9  Iris-virginica\n",
       "147  6.5  3.0  5.2  2.0  Iris-virginica\n",
       "148  6.2  3.4  5.4  2.3  Iris-virginica\n",
       "149  5.9  3.0  5.1  1.8  Iris-virginica"
      ]
     },
     "execution_count": 1,
     "metadata": {},
     "output_type": "execute_result"
    }
   ],
   "source": [
    "import pandas as pd\n",
    "df = pd.read_csv('https://archive.ics.uci.edu/ml/'\n",
    "                  'machine-learning-databases/iris/iris.data',\n",
    "                  header=None)\n",
    "df.tail()"
   ]
  },
  {
   "cell_type": "code",
   "execution_count": 2,
   "metadata": {},
   "outputs": [
    {
     "data": {
      "text/plain": [
       "Int64Index([0, 1, 2, 3, 4], dtype='int64')"
      ]
     },
     "execution_count": 2,
     "metadata": {},
     "output_type": "execute_result"
    }
   ],
   "source": [
    "df.columns"
   ]
  },
  {
   "cell_type": "markdown",
   "metadata": {},
   "source": [
    "Renaming columns for clarity."
   ]
  },
  {
   "cell_type": "code",
   "execution_count": 3,
   "metadata": {},
   "outputs": [
    {
     "name": "stdout",
     "output_type": "stream",
     "text": [
      "['Iris-setosa' 'Iris-versicolor' 'Iris-virginica']\n"
     ]
    },
    {
     "data": {
      "text/html": [
       "<div>\n",
       "<style scoped>\n",
       "    .dataframe tbody tr th:only-of-type {\n",
       "        vertical-align: middle;\n",
       "    }\n",
       "\n",
       "    .dataframe tbody tr th {\n",
       "        vertical-align: top;\n",
       "    }\n",
       "\n",
       "    .dataframe thead th {\n",
       "        text-align: right;\n",
       "    }\n",
       "</style>\n",
       "<table border=\"1\" class=\"dataframe\">\n",
       "  <thead>\n",
       "    <tr style=\"text-align: right;\">\n",
       "      <th></th>\n",
       "      <th>Sepal_Length</th>\n",
       "      <th>Sepal_Width</th>\n",
       "      <th>Petal_Length</th>\n",
       "      <th>Petal_Width</th>\n",
       "      <th>Species</th>\n",
       "    </tr>\n",
       "  </thead>\n",
       "  <tbody>\n",
       "    <tr>\n",
       "      <th>0</th>\n",
       "      <td>5.1</td>\n",
       "      <td>3.5</td>\n",
       "      <td>1.4</td>\n",
       "      <td>0.2</td>\n",
       "      <td>Iris-setosa</td>\n",
       "    </tr>\n",
       "    <tr>\n",
       "      <th>1</th>\n",
       "      <td>4.9</td>\n",
       "      <td>3.0</td>\n",
       "      <td>1.4</td>\n",
       "      <td>0.2</td>\n",
       "      <td>Iris-setosa</td>\n",
       "    </tr>\n",
       "    <tr>\n",
       "      <th>2</th>\n",
       "      <td>4.7</td>\n",
       "      <td>3.2</td>\n",
       "      <td>1.3</td>\n",
       "      <td>0.2</td>\n",
       "      <td>Iris-setosa</td>\n",
       "    </tr>\n",
       "    <tr>\n",
       "      <th>3</th>\n",
       "      <td>4.6</td>\n",
       "      <td>3.1</td>\n",
       "      <td>1.5</td>\n",
       "      <td>0.2</td>\n",
       "      <td>Iris-setosa</td>\n",
       "    </tr>\n",
       "    <tr>\n",
       "      <th>4</th>\n",
       "      <td>5.0</td>\n",
       "      <td>3.6</td>\n",
       "      <td>1.4</td>\n",
       "      <td>0.2</td>\n",
       "      <td>Iris-setosa</td>\n",
       "    </tr>\n",
       "  </tbody>\n",
       "</table>\n",
       "</div>"
      ],
      "text/plain": [
       "   Sepal_Length  Sepal_Width  Petal_Length  Petal_Width      Species\n",
       "0           5.1          3.5           1.4          0.2  Iris-setosa\n",
       "1           4.9          3.0           1.4          0.2  Iris-setosa\n",
       "2           4.7          3.2           1.3          0.2  Iris-setosa\n",
       "3           4.6          3.1           1.5          0.2  Iris-setosa\n",
       "4           5.0          3.6           1.4          0.2  Iris-setosa"
      ]
     },
     "execution_count": 3,
     "metadata": {},
     "output_type": "execute_result"
    }
   ],
   "source": [
    "df.columns = ['Sepal_Length','Sepal_Width','Petal_Length',\n",
    "              'Petal_Width','Species']\n",
    "\n",
    "print(df.Species.unique())\n",
    "df.head()\n"
   ]
  },
  {
   "cell_type": "markdown",
   "metadata": {},
   "source": [
    "# 1.Selecting two features at a time\n",
    "\n",
    "#### 1_1 Sepal Length and Sepal Width Features"
   ]
  },
  {
   "cell_type": "code",
   "execution_count": 4,
   "metadata": {},
   "outputs": [
    {
     "data": {
      "text/plain": [
       "array([[5.1, 3.5],\n",
       "       [4.9, 3. ],\n",
       "       [4.7, 3.2],\n",
       "       [4.6, 3.1],\n",
       "       [5. , 3.6]])"
      ]
     },
     "execution_count": 4,
     "metadata": {},
     "output_type": "execute_result"
    }
   ],
   "source": [
    "import numpy as np\n",
    "x_labels_SlSw = df.columns[0:2] #select Sepal Length and Sepal Width\n",
    "# print(x_labels1)\n",
    "X_SlSw = np.array(df[x_labels_SlSw].values)\n",
    "X_SlSw[:5]\n"
   ]
  },
  {
   "cell_type": "code",
   "execution_count": 5,
   "metadata": {},
   "outputs": [],
   "source": [
    "vals, y = np.unique(df['Species'].values, return_inverse=True)"
   ]
  },
  {
   "cell_type": "code",
   "execution_count": 6,
   "metadata": {},
   "outputs": [
    {
     "data": {
      "text/plain": [
       "array(['Iris-setosa', 'Iris-versicolor', 'Iris-virginica'], dtype=object)"
      ]
     },
     "execution_count": 6,
     "metadata": {},
     "output_type": "execute_result"
    }
   ],
   "source": [
    "vals"
   ]
  },
  {
   "cell_type": "code",
   "execution_count": 7,
   "metadata": {},
   "outputs": [
    {
     "data": {
      "text/plain": [
       "array([0, 0, 0, 0, 0, 0, 0, 0, 0, 0, 0, 0, 0, 0, 0, 0, 0, 0, 0, 0, 0, 0,\n",
       "       0, 0, 0, 0, 0, 0, 0, 0, 0, 0, 0, 0, 0, 0, 0, 0, 0, 0, 0, 0, 0, 0,\n",
       "       0, 0, 0, 0, 0, 0, 1, 1, 1, 1, 1, 1, 1, 1, 1, 1, 1, 1, 1, 1, 1, 1,\n",
       "       1, 1, 1, 1, 1, 1, 1, 1, 1, 1, 1, 1, 1, 1, 1, 1, 1, 1, 1, 1, 1, 1,\n",
       "       1, 1, 1, 1, 1, 1, 1, 1, 1, 1, 1, 1, 2, 2, 2, 2, 2, 2, 2, 2, 2, 2,\n",
       "       2, 2, 2, 2, 2, 2, 2, 2, 2, 2, 2, 2, 2, 2, 2, 2, 2, 2, 2, 2, 2, 2,\n",
       "       2, 2, 2, 2, 2, 2, 2, 2, 2, 2, 2, 2, 2, 2, 2, 2, 2, 2])"
      ]
     },
     "execution_count": 7,
     "metadata": {},
     "output_type": "execute_result"
    }
   ],
   "source": [
    "y"
   ]
  },
  {
   "cell_type": "code",
   "execution_count": 8,
   "metadata": {},
   "outputs": [],
   "source": [
    "from sklearn.preprocessing import scale"
   ]
  },
  {
   "cell_type": "code",
   "execution_count": 9,
   "metadata": {},
   "outputs": [
    {
     "data": {
      "text/plain": [
       "array([[-0.90068117,  1.03205722],\n",
       "       [-1.14301691, -0.1249576 ],\n",
       "       [-1.38535265,  0.33784833],\n",
       "       [-1.50652052,  0.10644536],\n",
       "       [-1.02184904,  1.26346019]])"
      ]
     },
     "execution_count": 9,
     "metadata": {},
     "output_type": "execute_result"
    }
   ],
   "source": [
    "Xs_SlSw = scale(X_SlSw) #scale provides a quick way to center predictor values\n",
    "#it does the same by taking in an array and centering to the mean along an axis\n",
    "\n",
    "Xs_SlSw[:5] #preview effect of scale\n"
   ]
  },
  {
   "cell_type": "markdown",
   "metadata": {},
   "source": [
    "As we can see the values for the array X have changed so we can identify the intercept. It abstractly reflects the situation which the values of the array span across the value 0 - i.e. it allows prediction of the intercept. The intercept is important as we are examining a dummy-coded predictor value based on Iris specie."
   ]
  },
  {
   "cell_type": "code",
   "execution_count": 10,
   "metadata": {},
   "outputs": [
    {
     "data": {
      "text/plain": [
       "LogisticRegression(C=1.0, class_weight=None, dual=False, fit_intercept=True,\n",
       "          intercept_scaling=1, max_iter=100, multi_class='ovr', n_jobs=1,\n",
       "          penalty='l2', random_state=None, solver='liblinear', tol=0.0001,\n",
       "          verbose=0, warm_start=False)"
      ]
     },
     "execution_count": 10,
     "metadata": {},
     "output_type": "execute_result"
    }
   ],
   "source": [
    "from sklearn.linear_model import LogisticRegression\n",
    "logreg = LogisticRegression()\n",
    "\n",
    "logreg.fit(Xs_SlSw, y)\n"
   ]
  },
  {
   "cell_type": "code",
   "execution_count": 11,
   "metadata": {},
   "outputs": [],
   "source": [
    "# import matplotlib.pyplot as plt\n",
    "\n",
    "# #matplotlib scatter funcion w/ logistic regression\n",
    "# y = y.reshape(-1, 1)\n",
    "\n",
    "# print(y.shape)\n",
    "# print(Xs.shape)\n",
    "# X2 = logreg.predict_proba(Xs)[:,2]\n",
    "# X2 = X2.reshape(1,-1)\n",
    "# print(X2.shape)\n",
    "\n",
    "# plt.scatter(Xs, logreg.predict_proba(Xs)[:,1])\n",
    "# plt.xlabel(\"Credit Balance\")\n",
    "# plt.ylabel(\"Probability of Default\")\n"
   ]
  },
  {
   "cell_type": "code",
   "execution_count": 14,
   "metadata": {},
   "outputs": [
    {
     "data": {
      "text/plain": [
       "0.17333333333333334"
      ]
     },
     "execution_count": 14,
     "metadata": {},
     "output_type": "execute_result"
    }
   ],
   "source": [
    "y_hat_SlSw = logreg.predict(Xs_SlSw)\n",
    "\n",
    "accuracy_SlSw = np.mean(y_hat_SlSl == y)\n",
    "accuracy_SlSw"
   ]
  },
  {
   "cell_type": "markdown",
   "metadata": {},
   "source": [
    "#### 1_2 Sepal Length and Petal Length Features"
   ]
  },
  {
   "cell_type": "code",
   "execution_count": 15,
   "metadata": {},
   "outputs": [
    {
     "data": {
      "text/plain": [
       "0.8733333333333333"
      ]
     },
     "execution_count": 15,
     "metadata": {},
     "output_type": "execute_result"
    }
   ],
   "source": [
    "#Select Sepal Length and Petal Length...\n",
    "#... Pick from: ['Sepal_Length','Sepal_Width','Petal_Length',\n",
    "#               'Petal_Width','Species']\n",
    "# SlSw = Sepal length and Sepal width\n",
    "# SlPl = Sepal length and Petal length\n",
    "# SlPw = Sepal length and Petal width\n",
    "# SwPl = Sepal width and Petal length\n",
    "# SwPw = Sepal width and Petal width\n",
    "# PlPw = Petal length and Petal width\n",
    "\n",
    "x_labels_SlPl = df[['Sepal_Length','Petal_Length']] \n",
    "# print(x_labels_SlPl)\n",
    "\n",
    "X_SlPl = x_labels_SlPl.values\n",
    "# print(X_SlPl)\n",
    "\n",
    "Xs_SlPl = scale(X_SlPl) \n",
    "# Xs_SlPl[:5] #preview effect of scale\n",
    "\n",
    "logreg.fit(Xs_SlPl, y)\n",
    "\n",
    "y_hat_SlPl = logreg.predict(Xs_SlPl)\n",
    "\n",
    "accuracy_SlPl = np.mean(y_hat_SlPl == y)\n",
    "accuracy_SlPl"
   ]
  },
  {
   "cell_type": "markdown",
   "metadata": {},
   "source": [
    "#### 1_3 Sepal Length and Petal Width Features"
   ]
  },
  {
   "cell_type": "code",
   "execution_count": 16,
   "metadata": {},
   "outputs": [
    {
     "data": {
      "text/plain": [
       "0.8866666666666667"
      ]
     },
     "execution_count": 16,
     "metadata": {},
     "output_type": "execute_result"
    }
   ],
   "source": [
    "#Select Sepal Length and Petal Width...\n",
    "#... Pick from: ['Sepal_Length','Sepal_Width','Petal_Length',\n",
    "#               'Petal_Width','Species']\n",
    "# SlSw = Sepal length and Sepal width\n",
    "# SlPl = Sepal length and Petal length\n",
    "# SlPw = Sepal length and Petal width\n",
    "# SwPl = Sepal width and Petal length\n",
    "# SwPw = Sepal width and Petal width\n",
    "# PlPw = Petal length and Petal width\n",
    "\n",
    "x_labels_SlPw = df[['Sepal_Length','Petal_Width']] \n",
    "# print(x_labels_SlPl)\n",
    "\n",
    "X_SlPw = x_labels_SlPw.values\n",
    "# print(X_SlPl)\n",
    "\n",
    "Xs_SlPw = scale(X_SlPw) \n",
    "# Xs_SlPl[:5] #preview effect of scale\n",
    "\n",
    "logreg.fit(Xs_SlPw, y)\n",
    "\n",
    "y_hat_SlPw = logreg.predict(Xs_SlPw)\n",
    "\n",
    "accuracy_SlPw = np.mean(y_hat_SlPw == y)\n",
    "accuracy_SlPw"
   ]
  },
  {
   "cell_type": "markdown",
   "metadata": {},
   "source": [
    "#### 1_4 Sepal Width and Petal Length"
   ]
  },
  {
   "cell_type": "code",
   "execution_count": 17,
   "metadata": {},
   "outputs": [
    {
     "data": {
      "text/plain": [
       "0.86"
      ]
     },
     "execution_count": 17,
     "metadata": {},
     "output_type": "execute_result"
    }
   ],
   "source": [
    "#Select Sepal Width and Petal Length...\n",
    "#... Pick from: ['Sepal_Length','Sepal_Width','Petal_Length',\n",
    "#               'Petal_Width','Species']\n",
    "# SlSw = Sepal length and Sepal width\n",
    "# SlPl = Sepal length and Petal length\n",
    "# SlPw = Sepal length and Petal width\n",
    "# SwPl = Sepal width and Petal length\n",
    "# SwPw = Sepal width and Petal width\n",
    "# PlPw = Petal length and Petal width\n",
    "\n",
    "x_labels_SwPl = df[['Sepal_Width','Petal_Length']] \n",
    "# print(x_labels_SlPl)\n",
    "\n",
    "X_SwPl = x_labels_SwPl.values\n",
    "# print(X_SlPl)\n",
    "\n",
    "Xs_SwPl = scale(X_SwPl) \n",
    "# Xs_SlPl[:5] #preview effect of scale\n",
    "\n",
    "logreg.fit(Xs_SwPl, y)\n",
    "\n",
    "y_hat_SwPl = logreg.predict(Xs_SwPl)\n",
    "\n",
    "accuracy_SwPl = np.mean(y_hat_SwPl == y)\n",
    "accuracy_SwPl"
   ]
  },
  {
   "cell_type": "markdown",
   "metadata": {},
   "source": [
    "#### 1_5 Sepal Width and Petal Width"
   ]
  },
  {
   "cell_type": "code",
   "execution_count": 18,
   "metadata": {},
   "outputs": [
    {
     "data": {
      "text/plain": [
       "0.8933333333333333"
      ]
     },
     "execution_count": 18,
     "metadata": {},
     "output_type": "execute_result"
    }
   ],
   "source": [
    "#Select Sepal Width and Petal Width...\n",
    "#... Pick from: ['Sepal_Length','Sepal_Width','Petal_Length',\n",
    "#               'Petal_Width','Species']\n",
    "# SlSw = Sepal length and Sepal width\n",
    "# SlPl = Sepal length and Petal length\n",
    "# SlPw = Sepal length and Petal width\n",
    "# SwPl = Sepal width and Petal length\n",
    "# SwPw = Sepal width and Petal width\n",
    "# PlPw = Petal length and Petal width\n",
    "\n",
    "x_labels_SwPw = df[['Sepal_Width','Petal_Width']] \n",
    "# print(x_labels_SlPl)\n",
    "\n",
    "X_SwPw = x_labels_SwPw.values\n",
    "# print(X_SlPl)\n",
    "\n",
    "Xs_SwPw = scale(X_SwPw) \n",
    "# Xs_SlPl[:5] #preview effect of scale\n",
    "\n",
    "logreg.fit(Xs_SwPw, y)\n",
    "\n",
    "y_hat_SwPw = logreg.predict(Xs_SwPw)\n",
    "\n",
    "accuracy_SwPw = np.mean(y_hat_SwPw == y)\n",
    "accuracy_SwPw"
   ]
  },
  {
   "cell_type": "markdown",
   "metadata": {},
   "source": [
    "#### 1_6 Petal Length and Petal Width"
   ]
  },
  {
   "cell_type": "code",
   "execution_count": 19,
   "metadata": {},
   "outputs": [
    {
     "data": {
      "text/plain": [
       "0.94"
      ]
     },
     "execution_count": 19,
     "metadata": {},
     "output_type": "execute_result"
    }
   ],
   "source": [
    "#Select Sepal Width and Petal Width...\n",
    "#... Pick from: ['Sepal_Length','Sepal_Width','Petal_Length',\n",
    "#               'Petal_Width','Species']\n",
    "# SlSw = Sepal length and Sepal width\n",
    "# SlPl = Sepal length and Petal length\n",
    "# SlPw = Sepal length and Petal width\n",
    "# SwPl = Sepal width and Petal length\n",
    "# SwPw = Sepal width and Petal width\n",
    "# PlPw = Petal length and Petal width\n",
    "\n",
    "x_labels_PlPw = df[['Petal_Length','Petal_Width']] \n",
    "# print(x_labels_SlPl)\n",
    "\n",
    "X_PlPw= x_labels_PlPw.values\n",
    "# print(X_SlPl)\n",
    "\n",
    "Xs_PlPw = scale(X_PlPw) \n",
    "# Xs_SlPl[:5] #preview effect of scale\n",
    "\n",
    "logreg.fit(Xs_PlPw, y)\n",
    "\n",
    "y_hat_PlPw = logreg.predict(Xs_PlPw)\n",
    "\n",
    "accuracy_PlPw = np.mean(y_hat_PlPw == y)\n",
    "accuracy_PlPw"
   ]
  },
  {
   "cell_type": "markdown",
   "metadata": {},
   "source": [
    "# 2.Selecting three features at a time\n",
    "\n",
    "#### 2_1 Sepal Length, Sepal Width and Petal Length Features"
   ]
  },
  {
   "cell_type": "code",
   "execution_count": 20,
   "metadata": {},
   "outputs": [
    {
     "data": {
      "text/plain": [
       "0.8733333333333333"
      ]
     },
     "execution_count": 20,
     "metadata": {},
     "output_type": "execute_result"
    }
   ],
   "source": [
    "#Select Sepal Width and Petal Width...\n",
    "#... Pick from: ['Sepal_Length','Sepal_Width','Petal_Length',\n",
    "#               'Petal_Width','Species']\n",
    "# Sl_SwPl= Sepal length, Sepal Width and Petal Length \n",
    "# Sl_SwPw= Sepal length, Sepal Width and Petal Width\n",
    "# Sl_PlPw= Sepal length, Petal Length and Petal Width\n",
    "# Sw_PlPw= Sepal width, Petal Length and Petal Width\n",
    "\n",
    "\n",
    "x_labels_Sl_SwPl = df[['Sepal_Length', 'Sepal_Width', 'Petal_Length']] \n",
    "# print(x_labels_SlPl)\n",
    "\n",
    "X_Sl_SwPl= x_labels_Sl_SwPl.values\n",
    "# print(X_SlPl)\n",
    "\n",
    "Xs_Sl_SwPl = scale(X_Sl_SwPl) \n",
    "# Xs_SlPl[:5] #preview effect of scale\n",
    "\n",
    "logreg.fit(Xs_Sl_SwPl, y)\n",
    "\n",
    "y_hat_Sl_SwPl = logreg.predict(Xs_Sl_SwPl)\n",
    "\n",
    "accuracy_Sl_SwPl = np.mean(y_hat_Sl_SwPl == y)\n",
    "accuracy_Sl_SwPl"
   ]
  },
  {
   "cell_type": "markdown",
   "metadata": {},
   "source": [
    "#### 2_2 Sepal Length, Sepal Width and Petal Width Features"
   ]
  },
  {
   "cell_type": "code",
   "execution_count": 21,
   "metadata": {},
   "outputs": [
    {
     "data": {
      "text/plain": [
       "0.9066666666666666"
      ]
     },
     "execution_count": 21,
     "metadata": {},
     "output_type": "execute_result"
    }
   ],
   "source": [
    "#Select Sepal Width and Petal Width...\n",
    "#... Pick from: ['Sepal_Length','Sepal_Width','Petal_Length',\n",
    "#               'Petal_Width','Species']\n",
    "# Sl_SwPl= Sepal length, Sepal Width and Petal Length \n",
    "# Sl_SwPw= Sepal length, Sepal Width and Petal Width\n",
    "# Sl_PlPw= Sepal length, Petal Length and Petal Width\n",
    "# Sw_PlPw= Sepal width, Petal Length and Petal Width\n",
    "\n",
    "\n",
    "x_labels_Sl_SwPw = df[['Sepal_Length', 'Sepal_Width', 'Petal_Width']] \n",
    "# print(x_labels_SlPl)\n",
    "\n",
    "X_Sl_SwPw= x_labels_Sl_SwPw.values\n",
    "# print(X_SlPl)\n",
    "\n",
    "Xs_Sl_SwPw = scale(X_Sl_SwPw) \n",
    "# Xs_SlPl[:5] #preview effect of scale\n",
    "\n",
    "logreg.fit(Xs_Sl_SwPw, y)\n",
    "\n",
    "y_hat_Sl_SwPw = logreg.predict(Xs_Sl_SwPw)\n",
    "\n",
    "accuracy_Sl_SwPw = np.mean(y_hat_Sl_SwPw == y)\n",
    "accuracy_Sl_SwPw"
   ]
  },
  {
   "cell_type": "markdown",
   "metadata": {},
   "source": [
    "#### 2_3 Sepal Length, Petal Length and Petal Width Features"
   ]
  },
  {
   "cell_type": "code",
   "execution_count": 22,
   "metadata": {},
   "outputs": [
    {
     "data": {
      "text/plain": [
       "0.9133333333333333"
      ]
     },
     "execution_count": 22,
     "metadata": {},
     "output_type": "execute_result"
    }
   ],
   "source": [
    "#Select Sepal Width and Petal Width...\n",
    "#... Pick from: ['Sepal_Length','Sepal_Width','Petal_Length',\n",
    "#               'Petal_Width','Species']\n",
    "# Sl_SwPl= Sepal length, Sepal Width and Petal Length \n",
    "# Sl_SwPw= Sepal length, Sepal Width and Petal Width\n",
    "# Sl_PlPw= Sepal length, Petal Length and Petal Width\n",
    "# Sw_PlPw= Sepal width, Petal Length and Petal Width\n",
    "\n",
    "\n",
    "x_labels_Sl_PlPw = df[['Sepal_Length', 'Petal_Length', 'Petal_Width']] \n",
    "# print(x_labels_SlPl)\n",
    "\n",
    "X_Sl_PlPw= x_labels_Sl_PlPw.values\n",
    "# print(X_SlPl)\n",
    "\n",
    "Xs_Sl_PlPw = scale(X_Sl_PlPw) \n",
    "# Xs_SlPl[:5] #preview effect of scale\n",
    "\n",
    "logreg.fit(Xs_Sl_PlPw, y)\n",
    "\n",
    "y_hat_Sl_PlPw = logreg.predict(Xs_Sl_PlPw)\n",
    "\n",
    "accuracy_Sl_PlPw = np.mean(y_hat_Sl_PlPw == y)\n",
    "accuracy_Sl_PlPw"
   ]
  },
  {
   "cell_type": "markdown",
   "metadata": {},
   "source": [
    "#### 2_4 Sepal Width, Petal Length and Petal Width Features"
   ]
  },
  {
   "cell_type": "code",
   "execution_count": 23,
   "metadata": {},
   "outputs": [
    {
     "data": {
      "text/plain": [
       "0.92"
      ]
     },
     "execution_count": 23,
     "metadata": {},
     "output_type": "execute_result"
    }
   ],
   "source": [
    "#Select Sepal Width and Petal Width...\n",
    "#... Pick from: ['Sepal_Length','Sepal_Width','Petal_Length',\n",
    "#               'Petal_Width','Species']\n",
    "# Sl_SwPl= Sepal length, Sepal Width and Petal Length \n",
    "# Sl_SwPw= Sepal length, Sepal Width and Petal Width\n",
    "# Sl_PlPw= Sepal length, Petal Length and Petal Width\n",
    "# Sw_PlPw= Sepal width, Petal Length and Petal Width\n",
    "\n",
    "\n",
    "x_labels_Sw_PlPw = df[['Sepal_Width', 'Petal_Length', 'Petal_Width']] \n",
    "# print(x_labels_SlPl)\n",
    "\n",
    "X_Sw_PlPw= x_labels_Sw_PlPw.values\n",
    "# print(X_SlPl)\n",
    "\n",
    "Xs_Sw_PlPw = scale(X_Sw_PlPw) \n",
    "# Xs_SlPl[:5] #preview effect of scale\n",
    "\n",
    "logreg.fit(Xs_Sw_PlPw, y)\n",
    "\n",
    "y_hat_Sw_PlPw = logreg.predict(Xs_Sw_PlPw)\n",
    "\n",
    "accuracy_Sw_PlPw = np.mean(y_hat_Sw_PlPw == y)\n",
    "accuracy_Sw_PlPw"
   ]
  },
  {
   "cell_type": "markdown",
   "metadata": {},
   "source": [
    "# 3.Selecting all features"
   ]
  },
  {
   "cell_type": "code",
   "execution_count": 24,
   "metadata": {},
   "outputs": [
    {
     "data": {
      "text/plain": [
       "0.9266666666666666"
      ]
     },
     "execution_count": 24,
     "metadata": {},
     "output_type": "execute_result"
    }
   ],
   "source": [
    "#Select Sepal Width and Petal Width...\n",
    "#... Pick from: ['Sepal_Length','Sepal_Width','Petal_Length',\n",
    "#               'Petal_Width','Species']\n",
    "\n",
    "\n",
    "x_labels_4 = df[['Sepal_Length', 'Sepal_Width', 'Petal_Length', 'Petal_Width']] \n",
    "# print(x_labels_SlPl)\n",
    "\n",
    "X_4= x_labels_4.values\n",
    "# print(X_SlPl)\n",
    "\n",
    "Xs_4 = scale(X_4) \n",
    "# Xs_SlPl[:5] #preview effect of scale\n",
    "\n",
    "logreg.fit(Xs_4, y)\n",
    "\n",
    "y_hat_4 = logreg.predict(Xs_4)\n",
    "\n",
    "accuracy_4 = np.mean(y_hat_4 == y)\n",
    "accuracy_4"
   ]
  },
  {
   "cell_type": "markdown",
   "metadata": {},
   "source": [
    "# 4.Summarizing Results"
   ]
  },
  {
   "cell_type": "code",
   "execution_count": 25,
   "metadata": {
    "scrolled": true
   },
   "outputs": [
    {
     "name": "stdout",
     "output_type": "stream",
     "text": [
      "accuracy_SlSw        0.1733    \n",
      "accuracy_SlPl        0.8733    \n",
      "accuracy_SlPw        0.8866    \n",
      "accuracy_SwPl        0.86      \n",
      "accuracy_SwPw        0.8933    \n",
      "accuracy_PlPw        0.94      \n",
      "accuracy_Sl_SwPl     0.8733    \n",
      "accuracy_Sl_SwPw     0.9066    \n",
      "accuracy_Sl_PlPw     0.9133    \n",
      "accuracy_Sw_PlPw     0.92      \n",
      "accuracy_4           0.9266    \n",
      "['accuracy_PlPw'] 0.94\n"
     ]
    }
   ],
   "source": [
    "# imp ort operator\n",
    "\n",
    "acc_dict = {'accuracy_SlSw':accuracy_SlSw, 'accuracy_SlPl':accuracy_SlPl\n",
    "            , 'accuracy_SlPw':accuracy_SlPw, 'accuracy_SwPl':accuracy_SwPl\n",
    "            , 'accuracy_SwPw':accuracy_SwPw, 'accuracy_PlPw':accuracy_PlPw\n",
    "            , 'accuracy_Sl_SwPl':accuracy_Sl_SwPl, 'accuracy_Sl_SwPw':accuracy_Sl_SwPw\n",
    "            , 'accuracy_Sl_PlPw':accuracy_Sl_PlPw, 'accuracy_Sw_PlPw':accuracy_Sw_PlPw\n",
    "            , 'accuracy_4':accuracy_4}\n",
    "\n",
    "# print(acc_dict)\n",
    "\n",
    "for k, v in acc_dict.items():\n",
    "#     print(v)\n",
    "    num = v\n",
    "    print (\"{:<20} {:<10}\".format(k, float(str(num)[:6])))\n",
    "\n",
    "max_value = max(acc_dict.values())  # maximum value\n",
    "max_keys = [k for k, v in acc_dict.items() if v == max_value] # getting all keys containing the `maximum`\n",
    "\n",
    "# print(acc_dict)\n",
    "print(max_keys, max_value)\n"
   ]
  },
  {
   "cell_type": "markdown",
   "metadata": {},
   "source": [
    "The maximum accuracy is found using two features (petal length and petal width). "
   ]
  },
  {
   "cell_type": "markdown",
   "metadata": {},
   "source": [
    "### 4_1 Varying between L1/L2 and changing regularization parameter"
   ]
  },
  {
   "cell_type": "code",
   "execution_count": 29,
   "metadata": {},
   "outputs": [
    {
     "data": {
      "text/plain": [
       "<StemContainer object of 3 artists>"
      ]
     },
     "execution_count": 29,
     "metadata": {},
     "output_type": "execute_result"
    },
    {
     "data": {
      "image/png": "[encoded data removed]",
      "text/plain": [
       "<Figure size 432x288 with 1 Axes>"
      ]
     },
     "metadata": {},
     "output_type": "display_data"
    }
   ],
   "source": [
    "# For plotting in the Jupyter Notebook environment as an inline output\n",
    "%matplotlib inline\n",
    "import matplotlib.pyplot as plt\n",
    "\n",
    "# We create a matrix with all the labels\n",
    "x_labels_PlPw = df.columns[:-1]\n",
    "Xw_PlPw = np.array(df[x_labels_PlPw].values)\n",
    "# print(Xw_PlPw)\n",
    "\n",
    "# print(Xw_PlPw)\n",
    "# print(X_PlPw)\n",
    "# print(\"The matrix dimensions of Xw is \" + str(Xw_PlPw.shape))\n",
    "# print(X_PlPw.shape)\n",
    "\n",
    "\n",
    "# List of X:\n",
    "# X_SlSw        \n",
    "# X_SlPl        \n",
    "# X_SlPw        \n",
    "# X_SwPl        \n",
    "# X_SwPw        \n",
    "# X_PlPw        \n",
    "# X_Sl_SwPl     \n",
    "# X_Sl_SwPw     \n",
    "# X_Sl_PlPw     \n",
    "# X_Sw_PlPw     \n",
    "# X_4 \n",
    "# By default, LogisticRegression() is set on penalty as L2 and C=1.\n",
    "# For no regularization:\n",
    "logreg_w=LogisticRegression(C=1e10)\n",
    "\n",
    "#Using X_PlPW for Petal Length and Petal Width\n",
    "# print(logreg_w.fit(X_PlPw,y))\n",
    "# WX_PlPw=logreg_w.coef_\n",
    "# print(WX_PlPw)\n",
    "\n",
    "logreg_w.fit(Xw_PlPw,y)\n",
    "WX_PlPw=logreg_w.coef_\n",
    "# print(WX_PlPw)\n",
    "\n",
    "W=np.sum(WX_PlPw, axis = 0)\n",
    "# print(W)\n",
    "plt.stem(W)"
   ]
  },
  {
   "cell_type": "code",
   "execution_count": 30,
   "metadata": {},
   "outputs": [
    {
     "data": {
      "text/plain": [
       "['Petal_Width', 'Sepal_Width']"
      ]
     },
     "execution_count": 30,
     "metadata": {},
     "output_type": "execute_result"
    }
   ],
   "source": [
    "idx1=np.argsort(np.abs(W))[-1]\n",
    "# print(np.abs(W))\n",
    "idx2=np.argsort(np.abs(W))[-2]\n",
    "# print(idx2)\n",
    "# idx3=np.argsort(np.abs(W))[-3]\n",
    "# print(idx3)\n",
    "\n",
    "#Which are the top two features based on weight\n",
    "heavy=[x_labels_PlPw[idx1], x_labels_PlPw[idx2]]\n",
    "heavy"
   ]
  },
  {
   "cell_type": "markdown",
   "metadata": {},
   "source": [
    "##### a) Changing from L2 to L1"
   ]
  },
  {
   "cell_type": "code",
   "execution_count": 31,
   "metadata": {},
   "outputs": [
    {
     "data": {
      "text/plain": [
       "['Petal_Length', 'Sepal_Width']"
      ]
     },
     "execution_count": 31,
     "metadata": {},
     "output_type": "execute_result"
    },
    {
     "data": {
      "image/png": "[encoded data removed]",
      "text/plain": [
       "<Figure size 432x288 with 1 Axes>"
      ]
     },
     "metadata": {},
     "output_type": "display_data"
    }
   ],
   "source": [
    "# We create a matrix with all the labels (exc Species)...\n",
    "# ... again using highest accuracy Petal Length and Width\n",
    "# x_labels_PlPw = df.columns[:-1]\n",
    "# Xw_PlPw = np.array(df[x_labels_PlPw].values)\n",
    "\n",
    "logreg_w_L1=LogisticRegression(C=1e10, penalty='l1')\n",
    "\n",
    "logreg_w_L1.fit(Xw_PlPw,y)\n",
    "WX_PlPw_L1=logreg_w_L1.coef_\n",
    "# print(WX_PlPw)\n",
    "\n",
    "W_L1=np.sum(WX_PlPw_L1, axis = 0)\n",
    "# print(W)\n",
    "plt.stem(W_L1)\n",
    "\n",
    "idx1=np.argsort(np.abs(W_L1))[-1]\n",
    "# print(np.abs(W))\n",
    "idx2=np.argsort(np.abs(W_L1))[-2]\n",
    "# print(idx2)\n",
    "# idx3=np.argsort(np.abs(W))[-3]\n",
    "# print(idx3)\n",
    "\n",
    "#Which are the top two features based on weight\n",
    "heavy=[x_labels_PlPw[idx1], x_labels_PlPw[idx2]]\n",
    "heavy"
   ]
  },
  {
   "cell_type": "markdown",
   "metadata": {},
   "source": [
    "We can see that the highest weight is now allocated to Petal Length."
   ]
  },
  {
   "cell_type": "markdown",
   "metadata": {},
   "source": [
    "##### b) Changing Parameter C"
   ]
  },
  {
   "cell_type": "code",
   "execution_count": 267,
   "metadata": {},
   "outputs": [
    {
     "data": {
      "text/plain": [
       "['Petal_Length', 'Sepal_Width']"
      ]
     },
     "execution_count": 267,
     "metadata": {},
     "output_type": "execute_result"
    },
    {
     "data": {
      "image/png": "[encoded data removed]",
      "text/plain": [
       "<Figure size 432x288 with 1 Axes>"
      ]
     },
     "metadata": {},
     "output_type": "display_data"
    }
   ],
   "source": [
    "# We create a matrix with all the labels (exc Species)...\n",
    "# ... again using highest accuracy Petal Length and Width\n",
    "# x_labels_PlPw = df.columns[:-1]\n",
    "# Xw_PlPw = np.array(df[x_labels_PlPw].values)\n",
    "\n",
    "logreg_w_L1c2=LogisticRegression(C=1000, penalty='l1')\n",
    "\n",
    "logreg_w_L1c2.fit(Xw_PlPw,y)\n",
    "WX_PlPw_L1c2=logreg_w_L1c2.coef_\n",
    "# print(WX_PlPw)\n",
    "\n",
    "W_L1c2=np.sum(WX_PlPw_L1c2, axis = 0)\n",
    "# print(W)\n",
    "plt.stem(W_L1c2)\n",
    "\n",
    "idx1=np.argsort(np.abs(W_L1c2))[-1]\n",
    "# print(np.abs(W))\n",
    "idx2=np.argsort(np.abs(W_L1c2))[-2]\n",
    "# print(idx2)\n",
    "# idx3=np.argsort(np.abs(W))[-3]\n",
    "# print(idx3)\n",
    "\n",
    "#Which are the top two features based on weight\n",
    "heavy=[x_labels_PlPw[idx1], x_labels_PlPw[idx2]]\n",
    "heavy"
   ]
  },
  {
   "cell_type": "markdown",
   "metadata": {},
   "source": [
    "Here we can see the weights values increase for positive weights and the features with the stringest weights remain the same."
   ]
  },
  {
   "cell_type": "markdown",
   "metadata": {},
   "source": [
    "##### c) Further min Parameter C value - increasing regularization"
   ]
  },
  {
   "cell_type": "code",
   "execution_count": 269,
   "metadata": {},
   "outputs": [
    {
     "data": {
      "text/plain": [
       "['Petal_Width', 'Sepal_Width']"
      ]
     },
     "execution_count": 269,
     "metadata": {},
     "output_type": "execute_result"
    },
    {
     "data": {
      "image/png": "[encoded data removed]",
      "text/plain": [
       "<Figure size 432x288 with 1 Axes>"
      ]
     },
     "metadata": {},
     "output_type": "display_data"
    }
   ],
   "source": [
    "# We create a matrix with all the labels (exc Species)...\n",
    "# ... again using highest accuracy Petal Length and Width\n",
    "# x_labels_PlPw = df.columns[:-1]\n",
    "# Xw_PlPw = np.array(df[x_labels_PlPw].values)\n",
    "\n",
    "logreg_w_L1c3=LogisticRegression(C=10, penalty='l1')\n",
    "\n",
    "logreg_w_L1c3.fit(Xw_PlPw,y)\n",
    "WX_PlPw_L1c3=logreg_w_L1c3.coef_\n",
    "# print(WX_PlPw)\n",
    "\n",
    "W_L1c3=np.sum(WX_PlPw_L1c3, axis = 0)\n",
    "# print(W)\n",
    "plt.stem(W_L1c3)\n",
    "\n",
    "idx1=np.argsort(np.abs(W_L1c3))[-1]\n",
    "# print(np.abs(W))\n",
    "idx2=np.argsort(np.abs(W_L1c3))[-2]\n",
    "# print(idx2)\n",
    "# idx3=np.argsort(np.abs(W))[-3]\n",
    "# print(idx3)\n",
    "\n",
    "#Which are the top two features based on weight\n",
    "heavy=[x_labels_PlPw[idx1], x_labels_PlPw[idx2]]\n",
    "heavy"
   ]
  },
  {
   "cell_type": "code",
   "execution_count": 271,
   "metadata": {},
   "outputs": [
    {
     "data": {
      "text/plain": [
       "['Petal_Width', 'Sepal_Length']"
      ]
     },
     "execution_count": 271,
     "metadata": {},
     "output_type": "execute_result"
    },
    {
     "data": {
      "image/png": "[encoded data removed]",
      "text/plain": [
       "<Figure size 432x288 with 1 Axes>"
      ]
     },
     "metadata": {},
     "output_type": "display_data"
    }
   ],
   "source": [
    "logreg_w_L1c4=LogisticRegression(C=1, penalty='l1')\n",
    "\n",
    "logreg_w_L1c4.fit(Xw_PlPw,y)\n",
    "WX_PlPw_L1c4=logreg_w_L1c4.coef_\n",
    "\n",
    "W_L1c4=np.sum(WX_PlPw_L1c4, axis = 0)\n",
    "plt.stem(W_L1c4)\n",
    "\n",
    "idx1=np.argsort(np.abs(W_L1c4))[-1]\n",
    "idx2=np.argsort(np.abs(W_L1c4))[-2]\n",
    "\n",
    "\n",
    "#Which are the top two features based on weight\n",
    "heavy=[x_labels_PlPw[idx1], x_labels_PlPw[idx2]]\n",
    "heavy"
   ]
  },
  {
   "cell_type": "code",
   "execution_count": 273,
   "metadata": {},
   "outputs": [
    {
     "data": {
      "text/plain": [
       "['Sepal_Length', 'Sepal_Width']"
      ]
     },
     "execution_count": 273,
     "metadata": {},
     "output_type": "execute_result"
    },
    {
     "data": {
      "image/png": "[encoded data removed]",
      "text/plain": [
       "<Figure size 432x288 with 1 Axes>"
      ]
     },
     "metadata": {},
     "output_type": "display_data"
    }
   ],
   "source": [
    "logreg_w_L1c5=LogisticRegression(C=0.1, penalty='l1')\n",
    "\n",
    "logreg_w_L1c5.fit(Xw_PlPw,y)\n",
    "WX_PlPw_L1c5=logreg_w_L1c5.coef_\n",
    "\n",
    "W_L1c5=np.sum(WX_PlPw_L1c5, axis = 0)\n",
    "plt.stem(W_L1c5)\n",
    "\n",
    "idx1=np.argsort(np.abs(W_L1c5))[-1]\n",
    "idx2=np.argsort(np.abs(W_L1c5))[-2]\n",
    "\n",
    "\n",
    "#Which are the top two features based on weight\n",
    "heavy=[x_labels_PlPw[idx1], x_labels_PlPw[idx2]]\n",
    "heavy"
   ]
  },
  {
   "cell_type": "markdown",
   "metadata": {},
   "source": [
    "Here we see that the weight destribution can vary wildly, the further the regularization parameter is strengthened the more skewed it becomes from our original interpretation. When comparing to the centered mean, there is a relatively small amount of variance. when comparing 2 out of the 3 classes, thus some regularization should be applied but not too strongly as this could increase bias. A regulzatization of value of around C = 1000 seems appropriate for this dataset."
   ]
  },
  {
   "cell_type": "code",
   "execution_count": null,
   "metadata": {},
   "outputs": [],
   "source": []
  }
 ],
 "metadata": {
  "kernelspec": {
   "display_name": "Python 3",
   "language": "python",
   "name": "python3"
  },
  "language_info": {
   "codemirror_mode": {
    "name": "ipython",
    "version": 3
   },
   "file_extension": ".py",
   "mimetype": "text/x-python",
   "name": "python",
   "nbconvert_exporter": "python",
   "pygments_lexer": "ipython3",
   "version": "3.6.5"
  }
 },
 "nbformat": 4,
 "nbformat_minor": 2
}
